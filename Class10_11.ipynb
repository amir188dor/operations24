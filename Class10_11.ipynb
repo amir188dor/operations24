{
 "cells": [
  {
   "cell_type": "code",
   "execution_count": 19,
   "id": "c9c9edfa",
   "metadata": {},
   "outputs": [],
   "source": [
    "def myf(x):\n",
    "    y=2*x\n",
    "    return(y)"
   ]
  },
  {
   "cell_type": "code",
   "execution_count": 17,
   "id": "fe1c484d",
   "metadata": {},
   "outputs": [
    {
     "name": "stdout",
     "output_type": "stream",
     "text": [
      "8\n",
      "10\n"
     ]
    }
   ],
   "source": [
    "z=myf(4)\n",
    "print(z)"
   ]
  },
  {
   "cell_type": "code",
   "execution_count": 22,
   "id": "c6e0fcea",
   "metadata": {},
   "outputs": [
    {
     "name": "stdout",
     "output_type": "stream",
     "text": [
      "6 8\n",
      "-2\n"
     ]
    }
   ],
   "source": [
    "z1=myf(3)\n",
    "z2=myf(4)\n",
    "print(z1,z2)\n",
    "print(z1-z2)"
   ]
  },
  {
   "cell_type": "code",
   "execution_count": 23,
   "id": "85c9d5be",
   "metadata": {},
   "outputs": [],
   "source": [
    "def myf2(x):\n",
    "    y=3*x+5\n",
    "    return(y)"
   ]
  },
  {
   "cell_type": "code",
   "execution_count": 25,
   "id": "589b0a0c",
   "metadata": {},
   "outputs": [
    {
     "name": "stdout",
     "output_type": "stream",
     "text": [
      "14 20 -6\n"
     ]
    }
   ],
   "source": [
    "z1=myf2(3)\n",
    "z2=myf2(5)\n",
    "print(z1,z2,z1-z2)"
   ]
  },
  {
   "cell_type": "code",
   "execution_count": 27,
   "id": "d1f925eb",
   "metadata": {},
   "outputs": [],
   "source": [
    "def myf3(x1,x2):\n",
    "    y=x1+2*x2\n",
    "    return(y)"
   ]
  },
  {
   "cell_type": "code",
   "execution_count": 35,
   "id": "fdae4af8",
   "metadata": {},
   "outputs": [
    {
     "name": "stdout",
     "output_type": "stream",
     "text": [
      "7 6\n"
     ]
    }
   ],
   "source": [
    "z1=myf3(1,3)\n",
    "z2=3+3\n",
    "print(z1,z2)"
   ]
  },
  {
   "cell_type": "code",
   "execution_count": 36,
   "id": "89e725aa",
   "metadata": {},
   "outputs": [
    {
     "name": "stdout",
     "output_type": "stream",
     "text": [
      "0\n",
      "1\n",
      "2\n",
      "3\n",
      "4\n"
     ]
    }
   ],
   "source": [
    "print(0)\n",
    "print(1)\n",
    "print(2)\n",
    "print(3)\n",
    "print(4)"
   ]
  },
  {
   "cell_type": "code",
   "execution_count": 43,
   "id": "50d8809b",
   "metadata": {},
   "outputs": [
    {
     "name": "stdout",
     "output_type": "stream",
     "text": [
      "0\n",
      "1\n",
      "2\n",
      "3\n",
      "4\n",
      "5\n",
      "6\n",
      "7\n",
      "8\n",
      "9\n"
     ]
    }
   ],
   "source": [
    "myf2(2)\n",
    "for t in range(10):\n",
    "    print(t)"
   ]
  },
  {
   "cell_type": "code",
   "execution_count": 41,
   "id": "4fbd8f3f",
   "metadata": {},
   "outputs": [
    {
     "name": "stdout",
     "output_type": "stream",
     "text": [
      "0 5 0\n",
      "1 8 2\n",
      "2 11 4\n",
      "3 14 6\n",
      "4 17 8\n",
      "5 20 10\n",
      "6 23 12\n",
      "7 26 14\n",
      "8 29 16\n",
      "9 32 18\n"
     ]
    }
   ],
   "source": [
    "for t in range(10):\n",
    "    y=myf2(t)\n",
    "    z=myf(t)\n",
    "    print(t,y,z)"
   ]
  },
  {
   "cell_type": "code",
   "execution_count": 49,
   "id": "eb649f58",
   "metadata": {},
   "outputs": [
    {
     "data": {
      "text/plain": [
       "44.0"
      ]
     },
     "execution_count": 49,
     "metadata": {},
     "output_type": "execute_result"
    }
   ],
   "source": [
    "1100/25"
   ]
  },
  {
   "cell_type": "code",
   "execution_count": 52,
   "id": "fbbe977e",
   "metadata": {},
   "outputs": [
    {
     "data": {
      "text/plain": [
       "4"
      ]
     },
     "execution_count": 52,
     "metadata": {},
     "output_type": "execute_result"
    }
   ],
   "source": [
    "54%10"
   ]
  },
  {
   "cell_type": "code",
   "execution_count": 58,
   "id": "89a16cb3",
   "metadata": {},
   "outputs": [
    {
     "data": {
      "text/plain": [
       "5"
      ]
     },
     "execution_count": 58,
     "metadata": {},
     "output_type": "execute_result"
    }
   ],
   "source": [
    "(54//10)"
   ]
  },
  {
   "cell_type": "code",
   "execution_count": 57,
   "id": "20056914",
   "metadata": {},
   "outputs": [
    {
     "data": {
      "text/plain": [
       "6.0"
      ]
     },
     "execution_count": 57,
     "metadata": {},
     "output_type": "execute_result"
    }
   ],
   "source": [
    "(68-68%10)/10"
   ]
  },
  {
   "cell_type": "markdown",
   "id": "34f3defd",
   "metadata": {},
   "source": [
    "# Vizualization"
   ]
  },
  {
   "cell_type": "code",
   "execution_count": 60,
   "id": "c8bb9377",
   "metadata": {},
   "outputs": [
    {
     "data": {
      "image/png": "[encoded data removed]",
      "text/plain": [
       "<Figure size 432x288 with 1 Axes>"
      ]
     },
     "metadata": {
      "needs_background": "light"
     },
     "output_type": "display_data"
    }
   ],
   "source": [
    "import matplotlib.pyplot as plt\n",
    "plt.plot([1,2,3],[2,4,7])\n",
    "plt.show()"
   ]
  },
  {
   "cell_type": "code",
   "execution_count": 72,
   "id": "3c471d80",
   "metadata": {},
   "outputs": [],
   "source": [
    "import numpy as np\n",
    "\n",
    "\n",
    "t=np.array([1,2,3,4])\n",
    "D=np.array([10,15,18,21])\n",
    "\n",
    "def func(x):\n",
    "    f=8+3*x\n",
    "    return(f)\n",
    "\n",
    "\n"
   ]
  },
  {
   "cell_type": "code",
   "execution_count": 73,
   "id": "6f5f17db",
   "metadata": {},
   "outputs": [
    {
     "data": {
      "image/png": "[encoded data removed]",
      "text/plain": [
       "<Figure size 432x288 with 1 Axes>"
      ]
     },
     "metadata": {
      "needs_background": "light"
     },
     "output_type": "display_data"
    }
   ],
   "source": [
    "plt.scatter(t,D)\n",
    "plt.plot(t,func(t))\n",
    "plt.show()"
   ]
  },
  {
   "cell_type": "code",
   "execution_count": null,
   "id": "2bb2382d",
   "metadata": {},
   "outputs": [],
   "source": [
    "import numpy as np\n",
    "\n",
    "\n",
    "t=np.array([1,2,3,4])\n",
    "D=np.array([10,15,18,21])\n",
    "\n",
    "def func(x):\n",
    "    f=2+3*x\n",
    "    return(f)\n",
    "\n",
    "\n"
   ]
  }
 ],
 "metadata": {
  "kernelspec": {
   "display_name": "Python 3",
   "language": "python",
   "name": "python3"
  },
  "language_info": {
   "codemirror_mode": {
    "name": "ipython",
    "version": 3
   },
   "file_extension": ".py",
   "mimetype": "text/x-python",
   "name": "python",
   "nbconvert_exporter": "python",
   "pygments_lexer": "ipython3",
   "version": "3.8.8"
  }
 },
 "nbformat": 4,
 "nbformat_minor": 5
}
